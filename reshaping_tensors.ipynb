{
  "nbformat": 4,
  "nbformat_minor": 0,
  "metadata": {
    "colab": {
      "provenance": [],
      "authorship_tag": "ABX9TyNvTnXqrYNtv2KlW2rudu07",
      "include_colab_link": true
    },
    "kernelspec": {
      "name": "python3",
      "display_name": "Python 3"
    },
    "language_info": {
      "name": "python"
    }
  },
  "cells": [
    {
      "cell_type": "markdown",
      "metadata": {
        "id": "view-in-github",
        "colab_type": "text"
      },
      "source": [
        "<a href=\"https://colab.research.google.com/github/diya-nagchaudhury/learn_pytorch/blob/main/reshaping_tensors.ipynb\" target=\"_parent\"><img src=\"https://colab.research.google.com/assets/colab-badge.svg\" alt=\"Open In Colab\"/></a>"
      ]
    },
    {
      "cell_type": "code",
      "execution_count": 1,
      "metadata": {
        "id": "8rsDChuAwYWp"
      },
      "outputs": [],
      "source": [
        "import torch"
      ]
    },
    {
      "cell_type": "code",
      "source": [
        "a = torch.ones(4, 4)\n",
        "a"
      ],
      "metadata": {
        "colab": {
          "base_uri": "https://localhost:8080/"
        },
        "id": "dkUwaTGJxc_H",
        "outputId": "e6e3d5b2-ff05-4d14-f8a4-763e3214eabf"
      },
      "execution_count": 2,
      "outputs": [
        {
          "output_type": "execute_result",
          "data": {
            "text/plain": [
              "tensor([[1., 1., 1., 1.],\n",
              "        [1., 1., 1., 1.],\n",
              "        [1., 1., 1., 1.],\n",
              "        [1., 1., 1., 1.]])"
            ]
          },
          "metadata": {},
          "execution_count": 2
        }
      ]
    },
    {
      "cell_type": "code",
      "source": [
        "a.reshape(2,2,2,2)"
      ],
      "metadata": {
        "colab": {
          "base_uri": "https://localhost:8080/"
        },
        "id": "FeLl-nTXxkC1",
        "outputId": "553d25bc-d2ff-44b2-8f2b-8b51df1cf55d"
      },
      "execution_count": 3,
      "outputs": [
        {
          "output_type": "execute_result",
          "data": {
            "text/plain": [
              "tensor([[[[1., 1.],\n",
              "          [1., 1.]],\n",
              "\n",
              "         [[1., 1.],\n",
              "          [1., 1.]]],\n",
              "\n",
              "\n",
              "        [[[1., 1.],\n",
              "          [1., 1.]],\n",
              "\n",
              "         [[1., 1.],\n",
              "          [1., 1.]]]])"
            ]
          },
          "metadata": {},
          "execution_count": 3
        }
      ]
    },
    {
      "cell_type": "code",
      "source": [
        "a.flatten()"
      ],
      "metadata": {
        "colab": {
          "base_uri": "https://localhost:8080/"
        },
        "id": "6QWjs8Sjxqex",
        "outputId": "ca09ca8e-f7ba-4edc-eb10-b613f5701a10"
      },
      "execution_count": 4,
      "outputs": [
        {
          "output_type": "execute_result",
          "data": {
            "text/plain": [
              "tensor([1., 1., 1., 1., 1., 1., 1., 1., 1., 1., 1., 1., 1., 1., 1., 1.])"
            ]
          },
          "metadata": {},
          "execution_count": 4
        }
      ]
    },
    {
      "cell_type": "code",
      "source": [
        "b = torch.rand(2, 3, 4)\n",
        "b"
      ],
      "metadata": {
        "colab": {
          "base_uri": "https://localhost:8080/"
        },
        "id": "hCb73JVbxsId",
        "outputId": "c8ec4b6b-71f7-43b9-c651-00ca2eee29a3"
      },
      "execution_count": 7,
      "outputs": [
        {
          "output_type": "execute_result",
          "data": {
            "text/plain": [
              "tensor([[[0.1224, 0.5887, 0.9796, 0.2960],\n",
              "         [0.9528, 0.7441, 0.1599, 0.5840],\n",
              "         [0.3508, 0.4542, 0.6318, 0.2401]],\n",
              "\n",
              "        [[0.2572, 0.7429, 0.4567, 0.9579],\n",
              "         [0.5481, 0.4979, 0.8873, 0.8252],\n",
              "         [0.3100, 0.9322, 0.8838, 0.1947]]])"
            ]
          },
          "metadata": {},
          "execution_count": 7
        }
      ]
    },
    {
      "cell_type": "code",
      "source": [
        "b.permute(2, 0, 1)"
      ],
      "metadata": {
        "colab": {
          "base_uri": "https://localhost:8080/"
        },
        "id": "3SkMOrZ-xvxz",
        "outputId": "9f7dba64-ba36-45e7-a4cd-7282f86654dc"
      },
      "execution_count": 8,
      "outputs": [
        {
          "output_type": "execute_result",
          "data": {
            "text/plain": [
              "tensor([[[0.1224, 0.9528, 0.3508],\n",
              "         [0.2572, 0.5481, 0.3100]],\n",
              "\n",
              "        [[0.5887, 0.7441, 0.4542],\n",
              "         [0.7429, 0.4979, 0.9322]],\n",
              "\n",
              "        [[0.9796, 0.1599, 0.6318],\n",
              "         [0.4567, 0.8873, 0.8838]],\n",
              "\n",
              "        [[0.2960, 0.5840, 0.2401],\n",
              "         [0.9579, 0.8252, 0.1947]]])"
            ]
          },
          "metadata": {},
          "execution_count": 8
        }
      ]
    },
    {
      "cell_type": "code",
      "source": [
        "# squeeze and unsqueeze operations"
      ],
      "metadata": {
        "id": "SMykWFkmykL3"
      },
      "execution_count": 18,
      "outputs": []
    }
  ]
}