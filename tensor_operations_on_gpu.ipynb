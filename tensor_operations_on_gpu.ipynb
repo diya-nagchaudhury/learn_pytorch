{
  "nbformat": 4,
  "nbformat_minor": 0,
  "metadata": {
    "colab": {
      "provenance": [],
      "gpuType": "T4",
      "authorship_tag": "ABX9TyOIJF2XYpgNs8Y++wi99yST",
      "include_colab_link": true
    },
    "kernelspec": {
      "name": "python3",
      "display_name": "Python 3"
    },
    "language_info": {
      "name": "python"
    },
    "accelerator": "GPU"
  },
  "cells": [
    {
      "cell_type": "markdown",
      "metadata": {
        "id": "view-in-github",
        "colab_type": "text"
      },
      "source": [
        "<a href=\"https://colab.research.google.com/github/diya-nagchaudhury/learn_pytorch/blob/main/tensor_operations_on_gpu.ipynb\" target=\"_parent\"><img src=\"https://colab.research.google.com/assets/colab-badge.svg\" alt=\"Open In Colab\"/></a>"
      ]
    },
    {
      "cell_type": "code",
      "execution_count": 2,
      "metadata": {
        "id": "afFNE6EOtxMY"
      },
      "outputs": [],
      "source": [
        "import torch"
      ]
    },
    {
      "cell_type": "code",
      "source": [
        "torch.cuda.is_available()"
      ],
      "metadata": {
        "colab": {
          "base_uri": "https://localhost:8080/"
        },
        "id": "a2WqoDlwt3h7",
        "outputId": "8375e27c-3c31-40f2-e169-8494ccc351f5"
      },
      "execution_count": 3,
      "outputs": [
        {
          "output_type": "execute_result",
          "data": {
            "text/plain": [
              "True"
            ]
          },
          "metadata": {},
          "execution_count": 3
        }
      ]
    },
    {
      "cell_type": "code",
      "source": [
        "device = torch.device('cuda')\n",
        "print(device)"
      ],
      "metadata": {
        "colab": {
          "base_uri": "https://localhost:8080/"
        },
        "id": "L8qKg-qtt5fZ",
        "outputId": "cd2bc36f-5fa1-4569-a9cc-8b6c2271b3a8"
      },
      "execution_count": 6,
      "outputs": [
        {
          "output_type": "stream",
          "name": "stdout",
          "text": [
            "cuda\n"
          ]
        }
      ]
    },
    {
      "cell_type": "code",
      "source": [
        "# Creating a new tensor on GPU\n",
        "a = torch.tensor([1, 2, 3], device = device)\n",
        "a"
      ],
      "metadata": {
        "colab": {
          "base_uri": "https://localhost:8080/"
        },
        "id": "9M6BUb2Pt_BA",
        "outputId": "58c8e7cc-3e5f-45c2-aaaa-75b8f9cb8157"
      },
      "execution_count": 8,
      "outputs": [
        {
          "output_type": "execute_result",
          "data": {
            "text/plain": [
              "tensor([1, 2, 3], device='cuda:0')"
            ]
          },
          "metadata": {},
          "execution_count": 8
        }
      ]
    },
    {
      "cell_type": "code",
      "source": [
        "# Move an existing tensor to GPU\n",
        "b = torch.tensor([1, 2, 3.0])\n",
        "b"
      ],
      "metadata": {
        "colab": {
          "base_uri": "https://localhost:8080/"
        },
        "id": "AN9SHzZUt-OY",
        "outputId": "25ea64f2-ca01-453c-a2f7-c34cd2b73452"
      },
      "execution_count": 11,
      "outputs": [
        {
          "output_type": "execute_result",
          "data": {
            "text/plain": [
              "tensor([1., 2., 3.])"
            ]
          },
          "metadata": {},
          "execution_count": 11
        }
      ]
    },
    {
      "cell_type": "code",
      "source": [
        "b.to(device)"
      ],
      "metadata": {
        "colab": {
          "base_uri": "https://localhost:8080/"
        },
        "id": "pywO4bFBuVCN",
        "outputId": "c404cd94-e2e9-4d54-cce4-93f2980fdfc2"
      },
      "execution_count": 12,
      "outputs": [
        {
          "output_type": "execute_result",
          "data": {
            "text/plain": [
              "tensor([1., 2., 3.], device='cuda:0')"
            ]
          },
          "metadata": {},
          "execution_count": 12
        }
      ]
    },
    {
      "cell_type": "code",
      "source": [
        "b + 5"
      ],
      "metadata": {
        "colab": {
          "base_uri": "https://localhost:8080/"
        },
        "id": "RApRdVpHuZR4",
        "outputId": "f0ea0fb8-baab-4aae-b72c-a9f12011c037"
      },
      "execution_count": 13,
      "outputs": [
        {
          "output_type": "execute_result",
          "data": {
            "text/plain": [
              "tensor([6., 7., 8.])"
            ]
          },
          "metadata": {},
          "execution_count": 13
        }
      ]
    },
    {
      "cell_type": "markdown",
      "source": [
        "##### Performing matrix multiplication on CPU vs GPU"
      ],
      "metadata": {
        "id": "GbWCS9gcupsC"
      }
    },
    {
      "cell_type": "code",
      "source": [
        "import time\n",
        "\n",
        "size = 1000\n",
        "m1 = torch.randn(size, size)\n",
        "m2 = torch.randn(size, size)\n",
        "\n",
        "start_time = time.time()\n",
        "result_cpu = torch.matmul(m1, m2)\n",
        "cpu_time = time.time() - start_time\n",
        "\n",
        "m3 = m1.to(device)\n",
        "m4 = m2.to(device)\n",
        "\n",
        "start_time = time.time()\n",
        "result_gpu = torch.matmul(m3, m4)\n",
        "torch.cuda.synchronize() # Ensure all GPU operations are complete\n",
        "gpu_time = time.time() - start_time\n",
        "\n",
        "print(f\"Time on CPU: {cpu_time:.4f} seconds\")\n",
        "print(f\"Time on GPU: {gpu_time:.4f} seconds\")\n",
        "\n",
        "print(f\"Speedup: {cpu_time / gpu_time:.2f}x\")"
      ],
      "metadata": {
        "colab": {
          "base_uri": "https://localhost:8080/"
        },
        "id": "M8qN7rGoua7H",
        "outputId": "7f9a593e-7813-414c-ece1-f3780b13cd44"
      },
      "execution_count": 17,
      "outputs": [
        {
          "output_type": "stream",
          "name": "stdout",
          "text": [
            "Time on CPU: 0.0274 seconds\n",
            "Time on GPU: 0.0011 seconds\n",
            "Speedup: 25.62x\n"
          ]
        }
      ]
    }
  ]
}